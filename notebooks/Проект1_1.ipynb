{
  "nbformat": 4,
  "nbformat_minor": 0,
  "metadata": {
    "colab": {
      "provenance": []
    },
    "kernelspec": {
      "name": "python3",
      "display_name": "Python 3"
    },
    "language_info": {
      "name": "python"
    }
  },
  "cells": [
    {
      "cell_type": "markdown",
      "source": [
        "# Часть 1: Сбор данных"
      ],
      "metadata": {
        "id": "2pnnqr7CeHfj"
      }
    },
    {
      "cell_type": "markdown",
      "source": [
        "## Описание данных:\n",
        "На этапе сбора данных была реализована автоматизированная выгрузка вакансий с платформы hh.ru по релевантным ключевым словам, связанным с направлением подготовки \"Бизнес-информатика\" университета ИТМО.\n",
        "Сбор осуществлялся с использованием API hh.ru, с применением фильтрации по географическому признаку (Санкт-Петербург) и ключевым навыкам, востребованным на рынке труда (например, \"Бизнес-аналитик\", \"Product Manager\", \"SQL\", \"Python\" и др.).\n",
        "\n",
        "\n",
        "---\n",
        "\n",
        "\n",
        "Полученный датасет включает сведения о названии вакансии, компании, формате и графике работы, требованиях к опыту, а также предложениях по заработной плате. Также осуществлялась попытка получения дополнительной информации о работодателе (например, рейтинга, если доступен).\n",
        "\n",
        "\n",
        "---\n",
        "\n",
        "\n",
        "Сбор данных был завершён 29.04.2025."
      ],
      "metadata": {
        "id": "XIxsv5jXiGhI"
      }
    },
    {
      "cell_type": "markdown",
      "source": [
        "## Импорты и настройки логирования"
      ],
      "metadata": {
        "id": "SKyzi7hIYWOW"
      }
    },
    {
      "cell_type": "code",
      "source": [
        "import requests\n",
        "import pandas as pd\n",
        "from tqdm import tqdm\n",
        "import time\n",
        "import logging\n",
        "from datetime import datetime\n",
        "\n",
        "# Настройка логирования\n",
        "logging.basicConfig(\n",
        "    level=logging.INFO,\n",
        "    format='%(asctime)s - %(levelname)s - %(message)s',\n",
        "    filename='hh_parser.log'\n",
        ")\n",
        "logger = logging.getLogger(__name__)\n"
      ],
      "metadata": {
        "id": "8ZWMUl4gYcWa"
      },
      "execution_count": null,
      "outputs": []
    },
    {
      "cell_type": "markdown",
      "source": [
        "## Константы и базовые параметры"
      ],
      "metadata": {
        "id": "Btz8SQ0JHtCf"
      }
    },
    {
      "cell_type": "code",
      "source": [
        "BASE_URL = 'https://api.hh.ru/vacancies'\n",
        "EMPLOYER_URL = 'https://api.hh.ru/employers/'\n",
        "HEADERS = {\n",
        "    'User-Agent': 'MyAwesomeBot/1.0'\n",
        "}\n"
      ],
      "metadata": {
        "id": "llTDusmwYcE0"
      },
      "execution_count": null,
      "outputs": []
    },
    {
      "cell_type": "markdown",
      "source": [
        "## Универсальная функция запроса fetch"
      ],
      "metadata": {
        "id": "w5JlEqYnYmQ_"
      }
    },
    {
      "cell_type": "code",
      "source": [
        "def fetch(url, params=None, retries=3, delay=1.0):\n",
        "    \"\"\"\n",
        "    Выполняет HTTP GET-запрос с повторными попытками при ошибках.\n",
        "\n",
        "    :param url: URL запроса\n",
        "    :param params: словарь параметров запроса\n",
        "    :param retries: количество повторных попыток\n",
        "    :param delay: задержка между попытками\n",
        "    :return: JSON-ответ или None\n",
        "    \"\"\"\n",
        "    for attempt in range(retries):\n",
        "        try:\n",
        "            response = requests.get(url, params=params, headers=HEADERS)\n",
        "            if response.status_code == 200:\n",
        "                return response.json()\n",
        "            elif 400 <= response.status_code < 500:\n",
        "                logger.error(f\"Клиентская ошибка {response.status_code} на {url}: {response.text}\")\n",
        "                return None\n",
        "            elif 500 <= response.status_code < 600:\n",
        "                logger.warning(f\"Серверная ошибка {response.status_code} на {url}, попытка {attempt + 1}\")\n",
        "                time.sleep(delay * (2 ** attempt))\n",
        "        except requests.RequestException as e:\n",
        "            logger.error(f\"Ошибка запроса: {e}, попытка {attempt + 1}\")\n",
        "            time.sleep(delay * (2 ** attempt))\n",
        "    logger.error(f\"Не удалось получить данные после {retries} попыток: {url}\")\n",
        "    return None\n"
      ],
      "metadata": {
        "id": "yvMekgk2Yp2V"
      },
      "execution_count": null,
      "outputs": []
    },
    {
      "cell_type": "markdown",
      "source": [
        "## Получение рейтинга компании"
      ],
      "metadata": {
        "id": "jqA3qKQnYt1q"
      }
    },
    {
      "cell_type": "code",
      "source": [
        "def fetch_employer_rating(employer_id):\n",
        "    \"\"\"\n",
        "    Получает рейтинг компании по ID работодателя.\n",
        "\n",
        "    :param employer_id: ID работодателя\n",
        "    :return: строка с рейтингом или 'Нет рейтинга'\n",
        "    \"\"\"\n",
        "    if not employer_id:\n",
        "        return 'Нет рейтинга'\n",
        "    data = fetch(f\"{EMPLOYER_URL}{employer_id}\")\n",
        "    if data:\n",
        "        return data.get('rating', 'Нет рейтинга')\n",
        "    return 'Нет рейтинга'\n"
      ],
      "metadata": {
        "id": "1ppoMTQZYuq7"
      },
      "execution_count": null,
      "outputs": []
    },
    {
      "cell_type": "markdown",
      "source": [
        "## Обработка одной вакансии"
      ],
      "metadata": {
        "id": "iOHLlTMzYwn2"
      }
    },
    {
      "cell_type": "code",
      "source": [
        "def process_vacancy(vac):\n",
        "    \"\"\"\n",
        "    Обрабатывает отдельную вакансию в удобный для анализа формат.\n",
        "\n",
        "    :param vac: словарь с вакансией\n",
        "    :return: словарь с обработанными данными\n",
        "    \"\"\"\n",
        "    salary = vac.get('salary')\n",
        "    salary_str = 'Не указано'\n",
        "    if salary:\n",
        "        salary_from = salary.get('from')\n",
        "        salary_to = salary.get('to')\n",
        "        currency = salary.get('currency', 'RUR')\n",
        "        if salary_from and salary_to:\n",
        "            salary_str = f\"{salary_from} - {salary_to} {currency}\"\n",
        "        elif salary_from:\n",
        "            salary_str = f\"от {salary_from} {currency}\"\n",
        "        elif salary_to:\n",
        "            salary_str = f\"до {salary_to} {currency}\"\n",
        "\n",
        "    experience = vac.get('experience', {}).get('name', 'Не указано')\n",
        "    employment = vac.get('employment', {}).get('name', 'Не указано')\n",
        "    schedule = vac.get('schedule', {}).get('name', 'Не указано')\n",
        "    address = vac.get('address', {})\n",
        "    work_format = 'Удаленная работа' if vac.get('remote_work') else 'Офис' if address else 'Не указано'\n",
        "\n",
        "    employer_id = vac.get('employer', {}).get('id')\n",
        "    rating = fetch_employer_rating(employer_id)\n",
        "\n",
        "    return {\n",
        "        'Название вакансии': vac.get('name', 'Не указано'),\n",
        "        'Компания': vac.get('employer', {}).get('name', 'Не указано'),\n",
        "        'Рейтинг компании': rating,\n",
        "        'Зарплата': salary_str,\n",
        "        'Опыт работы': experience,\n",
        "        'Тип занятости': employment,\n",
        "        'График работы': schedule,\n",
        "        'Рабочие часы': 'Не указано',\n",
        "        'Формат работы': work_format,\n",
        "        'Ссылка на вакансию': vac.get('alternate_url', 'Не указано')\n",
        "    }\n"
      ],
      "metadata": {
        "id": "3h0MVzqxYya0"
      },
      "execution_count": null,
      "outputs": []
    },
    {
      "cell_type": "markdown",
      "source": [
        "## Поиск и обработка вакансий по ключевому слову"
      ],
      "metadata": {
        "id": "l3sTMETzY0z1"
      }
    },
    {
      "cell_type": "code",
      "source": [
        "def fetch_vacancies(keyword, area=2):\n",
        "    \"\"\"\n",
        "    Получает и обрабатывает вакансии для одного ключевого слова.\n",
        "\n",
        "    :param keyword: ключевое слово для поиска\n",
        "    :param area: ID региона (по умолчанию 2 — Санкт-Петербург)\n",
        "    :return: список обработанных вакансий\n",
        "    \"\"\"\n",
        "    logger.info(f\"Поиск вакансий для: {keyword}\")\n",
        "    page = 0\n",
        "    raw_vacancies = []\n",
        "    seen_ids = set()\n",
        "\n",
        "    while page < 100:\n",
        "        params = {\n",
        "            'text': keyword,\n",
        "            'area': area,\n",
        "            'page': page,\n",
        "            'per_page': 20\n",
        "        }\n",
        "        data = fetch(BASE_URL, params)\n",
        "        if not data or 'items' not in data or not data['items']:\n",
        "            break\n",
        "        items = data['items']\n",
        "        raw_vacancies.extend(items)\n",
        "        page += 1\n",
        "        time.sleep(1.5)\n",
        "\n",
        "    logger.info(f\"Найдено {len(raw_vacancies)} вакансий для '{keyword}'\")\n",
        "\n",
        "    processed = []\n",
        "    for vac in tqdm(raw_vacancies, desc=f\"Обработка вакансий ({keyword})\"):\n",
        "        url = vac.get('alternate_url')\n",
        "        vac_id = url.split('/')[-1] if url else None\n",
        "        if vac_id and vac_id not in seen_ids:\n",
        "            seen_ids.add(vac_id)\n",
        "            processed.append(process_vacancy(vac))\n",
        "\n",
        "    logger.info(f\"Обработано {len(processed)} уникальных вакансий для '{keyword}'\")\n",
        "    return processed\n"
      ],
      "metadata": {
        "id": "A9BLQCQRY4CI"
      },
      "execution_count": null,
      "outputs": []
    },
    {
      "cell_type": "markdown",
      "source": [
        "## Основная функция запуска main()"
      ],
      "metadata": {
        "id": "lO3XfHw4Y6mF"
      }
    },
    {
      "cell_type": "code",
      "source": [
        "def main():\n",
        "    \"\"\"\n",
        "    Основная функция парсера: собирает вакансии по всем ключевым словам.\n",
        "    \"\"\"\n",
        "    keywords = [\n",
        "        'Бизнес-аналитик', 'Системный аналитик', 'Аналитик данных', 'Product Manager',\n",
        "        'Project Manager', 'IT-консультант', 'Корпоративные информационные системы',\n",
        "        'Проектное управление', 'Тестировщик', 'Business Analyst', 'System Analyst',\n",
        "        'Data Analyst', 'QA Engineer', 'Продуктовый менеджер', 'Менеджер проектов',\n",
        "        'SQL', 'BPMN', 'UML', 'Agile', 'Scrum', 'Jira', 'Confluence', 'Python',\n",
        "        'Tableau', 'Power BI', 'API', 'REST', 'SOAP', 'SAP', '1С', 'ERP', 'CRM',\n",
        "        'Automation Testing', 'Selenium', 'A/B-тестирование', 'Roadmap', 'MVP',\n",
        "        'UX/UI', 'PMP', 'Kanban', 'AWS', 'Azure', 'BI-аналитик', 'Финтех', 'E-commerce'\n",
        "    ]\n",
        "\n",
        "    all_vacancies = []\n",
        "    for keyword in keywords:\n",
        "        vacancies = fetch_vacancies(keyword)\n",
        "        all_vacancies.extend(vacancies)\n",
        "        time.sleep(2.0)\n",
        "\n",
        "    logger.info(f\"Всего вакансий собрано: {len(all_vacancies)}\")\n",
        "\n",
        "    df = pd.DataFrame(all_vacancies)\n",
        "    output_file = f'vacancies_spb_{datetime.now().strftime(\"%Y%m%d_%H%M%S\")}.xlsx'\n",
        "    df.to_excel(output_file, index=False)\n",
        "    logger.info(f\"Данные сохранены в файл: {output_file}\")\n"
      ],
      "metadata": {
        "id": "QNo5X1MrZAQ5"
      },
      "execution_count": null,
      "outputs": []
    },
    {
      "cell_type": "markdown",
      "source": [
        "## Запуск скрипта"
      ],
      "metadata": {
        "id": "Dtgki8F_ZC3s"
      }
    },
    {
      "cell_type": "code",
      "source": [
        "if __name__ == \"__main__\":\n",
        "    logger.info(\"Запуск парсера hh.ru\")\n",
        "    main()\n"
      ],
      "metadata": {
        "colab": {
          "base_uri": "https://localhost:8080/"
        },
        "id": "UNDQ6p1lZDip",
        "outputId": "3a329a8f-1562-4af3-b2a2-2e49637ebb25"
      },
      "execution_count": null,
      "outputs": [
        {
          "output_type": "stream",
          "name": "stderr",
          "text": [
            "Обработка вакансий (Бизнес-аналитик): 100%|██████████| 316/316 [02:48<00:00,  1.88it/s]\n"
          ]
        }
      ]
    }
  ]
}